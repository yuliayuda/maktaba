# Preprocessing Notebook
#Notebook ini digunakan untuk membersihkan dan mempersiapkan dataset untuk pelatihan model.
# Import library yang diperlukan

import pandas as pd

# Memuat dataset
df = pd.read_csv('data/dataset.csv')  # Ganti dengan nama file dataset asli

# Menampilkan 5 baris pertama dari dataset
df.head()

# Menghapus duplikat
df = df.drop_duplicates()

# Menghapus baris dengan nilai kosong
df = df.dropna()

# Menampilkan informasi dataset setelah pembersihan
df.info()

# Menyimpan data yang sudah dibersihkan
df.to_csv('data/preprocessed_data.csv', index=False)
print("Data sudah dibersihkan dan disimpan.")
