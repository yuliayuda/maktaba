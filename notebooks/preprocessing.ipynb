# Preprocessing Notebook
#Notebook ini digunakan untuk membersihkan dan mempersiapkan dataset untuk pelatihan model.
# Import library yang diperlukan

import pandas as pd
import re
from bs4 import BeautifulSoup

# Memuat dataset
df = pd.read_csv('E:\\FINE_TUNNING\\datasets\\syamilah\\Splited\\D.csv')  # Ganti dengan nama file dataset asli

# Menampilkan 5 baris pertama dari dataset
df.head()

# Menghapus duplikat
df = df.drop_duplicates()

# Menghapus baris dengan nilai kosong
df = df.dropna()

def clean_text(text):
    # Menghapus HTML tags
    text = BeautifulSoup(text, "html.parser").get_text()
    
    # Menghapus karakter non-alfabet (termasuk simbol dan angka)
    text = re.sub(r'[^ء-ي0-9\s]', ' ', text)
    
    # Menghapus spasi yang berlebihan
    text = re.sub(r'\s+', ' ', text).strip()
    
    return text

# Terapkan fungsi ini ke kolom 'text' di dataframe Anda
df['text'] = df['text'].apply(clean_text)

# Menampilkan informasi dataset setelah pembersihan
df.info()

# Menyimpan data yang sudah dibersihkan
df.to_csv('E:\\FINE_TUNNING\\datasets\\syamilah\\Splited\\DClean.csv', index=False)
print("Data sudah dibersihkan dan disimpan.")
