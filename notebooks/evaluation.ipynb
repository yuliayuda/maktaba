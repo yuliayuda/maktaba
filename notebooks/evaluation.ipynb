# Import library yang diperlukan
import pandas as pd
from transformers import AutoTokenizer, AutoModelForSequenceClassification
import torch
from sklearn.metrics import classification_report
import matplotlib.pyplot as plt
import seaborn as sns

# Memuat dataset uji
test_file = 'data/preprocessed_data.csv'
df = pd.read_csv(test_file)

# Memuat model dan tokenizer
model_dir = './models/arabic_sentence_transformer'
tokenizer = AutoTokenizer.from_pretrained(model_dir)
model = AutoModelForSequenceClassification.from_pretrained(model_dir)

# Tokenisasi data uji
tokens = tokenizer(df['text'].tolist(), padding=True, truncation=True, return_tensors="pt")
labels = df['Book_Number'].tolist()

# Melakukan prediksi
with torch.no_grad():
    outputs = model(tokens['input_ids'], attention_mask=tokens['attention_mask'])
    predictions = torch.argmax(outputs.logits, dim=1).tolist()

# Menampilkan laporan klasifikasi
report = classification_report(labels, predictions, output_dict=True)

# Mengonversi laporan ke DataFrame untuk visualisasi
report_df = pd.DataFrame(report).transpose()

# Menampilkan laporan klasifikasi
print(report_df)

# Visualisasi hasil
plt.figure(figsize=(10, 5))
sns.heatmap(report_df.iloc[:-1, :-1], annot=True, fmt=".2f", cmap='Blues')
plt.title('Classification Report Heatmap')
plt.show()
