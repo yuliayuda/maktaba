# Import library yang diperlukan
import pandas as pd
from transformers import AutoTokenizer, AutoModelForSequenceClassification
import torch
from sklearn.metrics import classification_report
import matplotlib.pyplot as plt
import seaborn as sns
from torch.utils.data import DataLoader, TensorDataset

# Memuat dataset uji
test_file = '/kaggle/input/maktab5k/AClean_part_1_part_1_5k/AClean_part_1_part_1_part_5.csv'
df = pd.read_csv(test_file)

# Memuat model dan tokenizer
model_dir = './models/arabic_sentence_transformer'  # Ganti dengan model yang sesuai jika diperlukan
tokenizer = AutoTokenizer.from_pretrained(model_dir)
model = AutoModelForSequenceClassification.from_pretrained(model_dir)

# Menentukan perangkat (CPU/GPU)
device = torch.device("cuda" if torch.cuda.is_available() else "cpu")
model.to(device)

# Menentukan panjang maksimum untuk tokenisasi
max_length = 512  # Disarankan menggunakan panjang yang konsisten dengan model (contohnya: 512)

# Tokenisasi data uji dengan padding dan truncation
tokens = tokenizer(
    df['text'].tolist(), 
    padding=True, 
    truncation=True, 
    max_length=max_length, 
    return_tensors="pt"
)

# Konversi label ke tensor
labels = torch.tensor(df['Book_name'].astype(int).tolist())

# Membuat DataLoader
dataset = TensorDataset(tokens['input_ids'], tokens['attention_mask'], labels)
dataloader = DataLoader(dataset, batch_size=8)  # Menggunakan batch size lebih kecil untuk menghindari masalah memori

# Melakukan prediksi
predictions = []
model.eval()
with torch.no_grad():
    for batch in dataloader:
        # Memindahkan tensor ke perangkat yang sesuai (CPU/GPU)
        input_ids, attention_mask, _ = [t.to(device) for t in batch]
        outputs = model(input_ids, attention_mask=attention_mask)
        batch_predictions = torch.argmax(outputs.logits, dim=1)
        predictions.extend(batch_predictions.cpu().tolist())  # Memindahkan prediksi ke CPU sebelum menyimpannya

# Menampilkan laporan klasifikasi
report = classification_report(labels.tolist(), predictions, output_dict=True)

# Mengonversi laporan ke DataFrame untuk visualisasi
report_df = pd.DataFrame(report).transpose()

# Menampilkan laporan klasifikasi
print(report_df)

# Visualisasi hasil
plt.figure(figsize=(10, 5))
sns.heatmap(report_df.iloc[:-1, :-1], annot=True, fmt=".2f", cmap='Blues')
plt.title('Classification Report Heatmap')
plt.show()
