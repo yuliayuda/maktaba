# Import library yang diperlukan
import pandas as pd
from transformers import AutoTokenizer, AutoModelForSequenceClassification
import torch
from sklearn.metrics import classification_report
import matplotlib.pyplot as plt
import seaborn as sns
from torch.utils.data import DataLoader, TensorDataset

# Memuat dataset uji
test_file = 'E:\\FINE_TUNNING\\datasets\\syamilah\\Splited\\A\\AClean_part_2.csv'
df = pd.read_csv(test_file)

# Memuat model dan tokenizer
model_dir = './models/arabic_sentence_transformer'  # Ganti dengan model yang sesuai jika diperlukan
tokenizer = AutoTokenizer.from_pretrained(model_dir)
model = AutoModelForSequenceClassification.from_pretrained(model_dir)

# Tokenisasi data uji
tokens = tokenizer(df['text'].tolist(), padding=True, truncation=True, return_tensors="pt")
labels = df['Book_Number'].astype(int).tolist()  # Pastikan label dalam bentuk integer

# Membuat DataLoader
dataset = TensorDataset(tokens['input_ids'], tokens['attention_mask'], torch.tensor(labels))
dataloader = DataLoader(dataset, batch_size=16)

# Melakukan prediksi
predictions = []
model.eval()
with torch.no_grad():
    for batch in dataloader:
        input_ids, attention_mask, _ = batch
        outputs = model(input_ids, attention_mask=attention_mask)
        batch_predictions = torch.argmax(outputs.logits, dim=1)
        predictions.extend(batch_predictions.tolist())

# Menampilkan laporan klasifikasi
report = classification_report(labels, predictions, output_dict=True)

# Mengonversi laporan ke DataFrame untuk visualisasi
report_df = pd.DataFrame(report).transpose()

# Menampilkan laporan klasifikasi
print(report_df)

# Visualisasi hasil
plt.figure(figsize=(10, 5))
sns.heatmap(report_df.iloc[:-1, :-1], annot=True, fmt=".2f", cmap='Blues')
plt.title('Classification Report Heatmap')
plt.show()
