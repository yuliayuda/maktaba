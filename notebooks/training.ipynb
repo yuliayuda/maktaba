# Training Notebook
#Notebook ini digunakan untuk melatih model menggunakan dataset yang sudah dibersihkan.


# Import library yang diperlukan
import pandas as pd
from transformers import AutoTokenizer, AutoModelForSequenceClassification, Trainer, TrainingArguments
import torch

# Memuat dataset
df = pd.read_csv('data/preprocessed_data.csv')  # Ganti dengan nama file dataset yang sudah dibersihkan

# Menampilkan 5 baris pertama
df.head()

# Memuat tokenizer dan model
tokenizer = AutoTokenizer.from_pretrained("aubmindlab/arabert")
model = AutoModelForSequenceClassification.from_pretrained("aubmindlab/arabert", num_labels=len(df['Book_Number'].unique()))

# Tokenisasi data
tokens = tokenizer(df['text'].tolist(), padding=True, truncation=True, return_tensors="pt")

# Mengatur argumen pelatihan
training_args = TrainingArguments(
    output_dir='./models/arabic_sentence_transformer',
    evaluation_strategy="epoch",
    learning_rate=2e-5,
    per_device_train_batch_size=16,
    num_train_epochs=3,
    weight_decay=0.01,
)

# Membuat Trainer
trainer = Trainer(
    model=model,
    args=training_args,
    train_dataset=tokens,  # Sesuaikan dengan dataset Anda
)

# Melatih model
trainer.train()

# Menyimpan model dan tokenizer
model.save_pretrained('./models/arabic_sentence_transformer')
tokenizer.save_pretrained('./models/arabic_sentence_transformer')
print("Model dan tokenizer disimpan.")
